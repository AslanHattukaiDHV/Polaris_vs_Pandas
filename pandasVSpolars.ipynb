{
 "cells": [
  {
   "cell_type": "markdown",
   "metadata": {},
   "source": [
    "# pandas vs polars"
   ]
  },
  {
   "cell_type": "markdown",
   "metadata": {},
   "source": [
    "## TODO\n",
    "\n",
    "- benchmark code:\n",
    "   - aggregate\n",
    "\n",
    "   - write\n",
    "\n",
    "   - filter\n",
    "   \n",
    "   - join\n",
    "\n",
    "   - group by\n",
    "\n",
    "\n",
    "- docker container\n",
    "\n",
    "- setup description (machine specs, docker, data manipulations)\n",
    "\n",
    "- pandas, polars, mongoDB, apache spark (on a single node machine)\n",
    "\n",
    "***"
   ]
  },
  {
   "cell_type": "markdown",
   "metadata": {},
   "source": [
    "## Setup"
   ]
  },
  {
   "cell_type": "code",
   "execution_count": 34,
   "metadata": {},
   "outputs": [
    {
     "name": "stdout",
     "output_type": "stream",
     "text": [
      "pandas version used here is 2.1.1.\n",
      "polars version used here is 0.19.7.\n"
     ]
    }
   ],
   "source": [
    "# Installed packages\n",
    "#pip install pandas\n",
    "#pip install polars\n",
    "#pip install scipy\n",
    "#pip install matplotlib\n",
    "#pip install pyarrow\n",
    "#pip install fastparquet\n",
    "#pip install seaborn\n",
    "#pip install datetime\n",
    "\n",
    "import time # measure runtime\n",
    "import psutil # measure cpu usage and memory usage https://psutil.readthedocs.io/en/latest/\n",
    "import numpy as np\n",
    "\n",
    "import pandas as pd\n",
    "print(f\"pandas version used here is {pd.__version__}.\")\n",
    "import polars as pl\n",
    "print(f\"polars version used here is {pl.__version__}.\")\n",
    "\n",
    "import random\n",
    "import string\n",
    "\n",
    "\n",
    "# import datetime as dt\n",
    "\n",
    "# from IPython.display import Image\n",
    "# import seaborn as sns\n",
    "# import matplotlib.pyplot as plt\n",
    "\n",
    "# from scipy.stats import ttest_ind\n",
    "# import statistics as st"
   ]
  },
  {
   "cell_type": "markdown",
   "metadata": {},
   "source": [
    "### Dataset"
   ]
  },
  {
   "cell_type": "code",
   "execution_count": 70,
   "metadata": {},
   "outputs": [],
   "source": [
    "\n",
    "# This will be a eurpean CRM\n",
    "european_countries = [\n",
    "    'Albania', 'Andorra', 'Armenia', 'Austria', 'Azerbaijan', 'Belarus', 'Belgium', 'Bosnia and Herzegovina',\n",
    "    'Bulgaria', 'Croatia', 'Cyprus', 'Czech Republic', 'Denmark', 'Estonia', 'Finland', 'France', 'Georgia',\n",
    "    'Germany', 'Greece', 'Hungary', 'Iceland', 'Ireland', 'Italy', 'Kazakhstan', 'Kosovo', 'Latvia', 'Liechtenstein',\n",
    "    'Lithuania', 'Luxembourg', 'Malta', 'Moldova', 'Monaco', 'Montenegro', 'Netherlands', 'North Macedonia',\n",
    "    'Norway', 'Poland', 'Portugal', 'Romania', 'Russia', 'San Marino', 'Serbia', 'Slovakia', 'Slovenia', 'Spain',\n",
    "    'Sweden', 'Switzerland', 'Turkey', 'Ukraine', 'United Kingdom', 'Vatican City'\n",
    "]\n",
    "\n",
    "num_rows = 10000000\n",
    "\n",
    "# Generate CRM data\n",
    "data = {\n",
    "    'CustomerID': range(1, num_rows + 1),\n",
    "    'Name': [''.join(random.choices(string.ascii_letters, k=5)) for _ in range(num_rows)],\n",
    "    'Email': [''.join(random.choices(string.ascii_lowercase, k=7)) + '@example.com' for _ in range(num_rows)],\n",
    "    'Phone': [''.join(random.choices(string.digits, k=10)) for _ in range(num_rows)],\n",
    "    'Address': [''.join(random.choices(string.ascii_letters + string.digits, k=10)) for _ in range(num_rows)],\n",
    "    'Country': [random.choice(european_countries) for _ in range(num_rows)],\n",
    "    'Gender': [random.choice(['Male', 'Female']) for _ in range(num_rows)],\n",
    "}\n",
    "\n",
    "# Add random integer columns\n",
    "for i in range(1, 11): # adjust range to increase amount of cols\n",
    "    column_name = f'Int{i}'\n",
    "    data[column_name] = random.choices(range(100), k=num_rows)\n",
    "\n",
    "# Add random float columns\n",
    "for i in range(1, 11): # adjust range to increase amount of cols\n",
    "    column_name = f'Float{i}'\n",
    "    data[column_name] = [random.uniform(0, 1) for _ in range(num_rows)]\n",
    "    \n",
    "df_pl = pl.DataFrame(data)\n",
    "df_pd = pd.DataFrame(data)"
   ]
  },
  {
   "cell_type": "markdown",
   "metadata": {},
   "source": [
    "### Function to track cpu & memory usage"
   ]
  },
  {
   "cell_type": "markdown",
   "metadata": {},
   "source": [
    "Using psutils"
   ]
  },
  {
   "cell_type": "code",
   "execution_count": 5,
   "metadata": {},
   "outputs": [],
   "source": [
    "def track_cpu_memory(query):\n",
    "    cpu_usage_perc = []\n",
    "    memory_usage_mb = []\n",
    "\n",
    "    # start\n",
    "    process = psutil.Process()\n",
    "    start_time = time.time()\n",
    "    start_cpu_percent = process.cpu_percent(interval=None)\n",
    "    start_cpu_percent = process.cpu_percent(interval=None)\n",
    "    start_memory_mb = process.memory_info().rss / (1024 * 1024)\n",
    "\n",
    "    # run query\n",
    "    result = query()\n",
    "\n",
    "    # finish\n",
    "    end_time = time.time()\n",
    "    total_time = end_time - start_time\n",
    "    end_cpu_percent = process.cpu_percent(interval=None)\n",
    "    end_memory_mb = process.memory_info().rss / (1024 * 1024)\n",
    "\n",
    "    # calculate cpu & memory\n",
    "    cpu_usage_perc.append(end_cpu_percent - start_cpu_percent)\n",
    "    memory_usage_mb.append(end_memory_mb - start_memory_mb)\n",
    "\n",
    "    return {\n",
    "        \"avg_cpu_usage\": cpu_usage_perc,\n",
    "        \"avg_memory_usage_mb\": memory_usage_mb,\n",
    "        \"total_time\": total_time\n",
    "    }"
   ]
  },
  {
   "cell_type": "markdown",
   "metadata": {},
   "source": [
    "Using psutils and pympler"
   ]
  },
  {
   "cell_type": "code",
   "execution_count": null,
   "metadata": {},
   "outputs": [],
   "source": [
    "from pympler import asizeof\n",
    "\n",
    "def track_cpu_memory_pympler(query):\n",
    "    cpu_usage_perc = []\n",
    "    memory_usage_mb = []\n",
    "\n",
    "    # start\n",
    "    process = psutil.Process()\n",
    "    start_time = time.time()\n",
    "    start_cpu_percent = process.cpu_percent(interval=None)\n",
    "    start_memory_size = asizeof.asizeof(process.memory_info())\n",
    "\n",
    "    # run query\n",
    "    result = query()\n",
    "\n",
    "    # finish\n",
    "    end_time = time.time()\n",
    "    total_time = end_time - start_time\n",
    "    end_cpu_percent = process.cpu_percent(interval=None)\n",
    "    end_memory_size = asizeof.asizeof(process.memory_info())\n",
    "\n",
    "    # calculate cpu & memory\n",
    "    cpu_usage_perc.append(end_cpu_percent - start_cpu_percent)\n",
    "    memory_usage_mb.append((end_memory_size - start_memory_size) / (1024 * 1024))\n",
    "\n",
    "    return {\n",
    "        \"avg_cpu_usage\": cpu_usage_perc,\n",
    "        \"avg_memory_usage_mb\": memory_usage_mb,\n",
    "        \"total_time\": total_time\n",
    "    }"
   ]
  },
  {
   "cell_type": "markdown",
   "metadata": {},
   "source": [
    "Using memory profiler"
   ]
  },
  {
   "cell_type": "code",
   "execution_count": 74,
   "metadata": {},
   "outputs": [],
   "source": [
    "from memory_profiler import profile\n",
    "import random\n",
    "import string\n",
    "import pandas as pd\n",
    "import polars as pl\n",
    "\n",
    "@profile\n",
    "def generate_random_data(num_rows=1000, num_int_cols=10, num_float_cols=10):\n",
    "    european_countries = [\n",
    "        'Albania', 'Andorra', 'Armenia', 'Austria', 'Azerbaijan', 'Belarus', 'Belgium', 'Bosnia and Herzegovina',\n",
    "        'Bulgaria', 'Croatia', 'Cyprus', 'Czech Republic', 'Denmark', 'Estonia', 'Finland', 'France', 'Georgia',\n",
    "        'Germany', 'Greece', 'Hungary', 'Iceland', 'Ireland', 'Italy', 'Kazakhstan', 'Kosovo', 'Latvia', 'Liechtenstein',\n",
    "        'Lithuania', 'Luxembourg', 'Malta', 'Moldova', 'Monaco', 'Montenegro', 'Netherlands', 'North Macedonia',\n",
    "        'Norway', 'Poland', 'Portugal', 'Romania', 'Russia', 'San Marino', 'Serbia', 'Slovakia', 'Slovenia', 'Spain',\n",
    "        'Sweden', 'Switzerland', 'Turkey', 'Ukraine', 'United Kingdom', 'Vatican City'\n",
    "    ]\n",
    "\n",
    "    data = {\n",
    "        'CustomerID': list(range(1, num_rows + 1)),\n",
    "        'Name': [''.join(random.choices(string.ascii_letters, k=5)) for _ in range(num_rows)],\n",
    "        'Email': [''.join(random.choices(string.ascii_lowercase, k=7)) + '@example.com' for _ in range(num_rows)],\n",
    "        'Phone': [''.join(random.choices(string.digits, k=10)) for _ in range(num_rows)],\n",
    "        'Address': [''.join(random.choices(string.ascii_letters + string.digits, k=10)) for _ in range(num_rows)],\n",
    "        'Country': [random.choice(european_countries) for _ in range(num_rows)],\n",
    "        'Gender': [random.choice(['Male', 'Female']) for _ in range(num_rows)]\n",
    "    }\n",
    "\n",
    "    data.update({f'Int{i}': [random.choices(range(100), k=num_rows) for _ in range(num_rows)] for i in range(1, num_int_cols + 1)})\n",
    "    data.update({f'Float{i}': [random.uniform(0, 1) for _ in range(num_rows)] for i in range(1, num_float_cols + 1)})\n",
    "\n",
    "    return data\n",
    "\n",
    "# Generate CRM data\n",
    "if __name__ == \"__main__\":\n",
    "    data = generate_random_data()\n",
    "    df_pl = pl.DataFrame(data)\n",
    "    df_pd = pd.DataFrame(data)\n",
    "\n",
    "# python -m memory_profiler myscript"
   ]
  },
  {
   "cell_type": "markdown",
   "metadata": {},
   "source": [
    "#### Example query"
   ]
  },
  {
   "cell_type": "code",
   "execution_count": 6,
   "metadata": {},
   "outputs": [
    {
     "name": "stdout",
     "output_type": "stream",
     "text": [
      "Average cpu usage: [26.1]%\n",
      "Average memory usage: [48.65625] MB\n",
      "Total duration: 0.3587985038757324 seconds\n"
     ]
    }
   ],
   "source": [
    "def example_query():\n",
    "    result = df_pd.max()\n",
    "    return result\n",
    "\n",
    "results = track_cpu_memory(example_query)\n",
    "\n",
    "print(f\"Average cpu usage: {results['avg_cpu_usage']}%\")\n",
    "print(f\"Average memory usage: {results['avg_memory_usage_mb']} MB\")\n",
    "print(f\"Total duration: {results['total_time']} seconds\")"
   ]
  },
  {
   "cell_type": "markdown",
   "metadata": {},
   "source": [
    "Print results function"
   ]
  },
  {
   "cell_type": "code",
   "execution_count": 63,
   "metadata": {},
   "outputs": [],
   "source": [
    "def print_res(res_pd, res_pl):\n",
    "    num_cores = psutil.cpu_count()\n",
    "    print(f\"Number of cpu cores: {num_cores}\")\n",
    "    print(f\"Average cpu usage: \\n\\t pandas: {res_pd['avg_cpu_usage']}% \\n\\t polars: {res_pl['avg_cpu_usage']}% ({res_pl['avg_cpu_usage'][0]/num_cores:.2f}%/core)\")\n",
    "    print(f\"Average memory usage: \\n\\t pandas: {res_pd['avg_memory_usage_mb']} MB \\n\\t polars: {res_pl['avg_memory_usage_mb']} MB\")\n",
    "    print(f\"Total duration: \\n\\t pandas: {res_pd['total_time']} seconds \\n\\t polars: {res_pl['total_time']} seconds\")"
   ]
  },
  {
   "cell_type": "markdown",
   "metadata": {},
   "source": [
    "## Benchmarks and results\n",
    "Queries/manipulations for benchmarking polars and pandas in terms of resource usage.\n"
   ]
  },
  {
   "cell_type": "markdown",
   "metadata": {},
   "source": [
    "\n",
    "### Writing parquet-files"
   ]
  },
  {
   "cell_type": "code",
   "execution_count": 8,
   "metadata": {},
   "outputs": [
    {
     "data": {
      "text/plain": [
       "'C:\\\\Users\\\\IvanEsin\\\\AppData\\\\Local\\\\Programs\\\\Microsoft VS Code'"
      ]
     },
     "execution_count": 8,
     "metadata": {},
     "output_type": "execute_result"
    }
   ],
   "source": [
    "import os\n",
    "os.getcwd()"
   ]
  },
  {
   "cell_type": "code",
   "execution_count": 25,
   "metadata": {},
   "outputs": [
    {
     "name": "stdout",
     "output_type": "stream",
     "text": [
      "Average cpu usage: \n",
      "\t pandas: [40.1]% \n",
      "\t polars: [299.2]%\n",
      "Average memory usage: \n",
      "\t pandas: [149.07421875] MB \n",
      "\t polars: [36.07421875] MB\n",
      "Total duration: \n",
      "\t pandas: 0.16077327728271484 seconds \n",
      "\t polars: 0.13962340354919434 seconds\n"
     ]
    }
   ],
   "source": [
    "def query_pd():\n",
    "    pd_write=df_pd.to_parquet('test.parquet')\n",
    "    pd_read=pd.read_parquet('./test.parquet')\n",
    "\n",
    "res = track_cpu_memory(query_pd)\n",
    "\n",
    "def query_pl():\n",
    "    pl_write=df_pl.write_parquet('test.parquet')\n",
    "    pl_read=pl.read_parquet('./test.parquet')\n",
    "\n",
    "res = track_cpu_memory(query_pl)\n",
    "\n",
    "print_res(res_pd, res_pl)\n",
    "\n",
    "# print(f\"Average cpu usage: {results['avg_cpu_usage']}%\")\n",
    "# print(f\"Average memory usage: {results['avg_memory_usage_mb']} MB\")\n",
    "# print(f\"Total duration: {results['total_time']} seconds\")"
   ]
  },
  {
   "cell_type": "markdown",
   "metadata": {},
   "source": [
    "### Aggregating"
   ]
  },
  {
   "cell_type": "markdown",
   "metadata": {},
   "source": [
    "### Filtering"
   ]
  },
  {
   "cell_type": "code",
   "execution_count": 22,
   "metadata": {},
   "outputs": [
    {
     "data": {
      "text/plain": [
       "Index(['CustomerID', 'Name', 'Email', 'Phone', 'Address', 'Country', 'Gender',\n",
       "       'Int1', 'Int2', 'Int3', 'Int4', 'Int5', 'Int6', 'Int7', 'Int8', 'Int9',\n",
       "       'Int10', 'Float1', 'Float2', 'Float3', 'Float4', 'Float5', 'Float6',\n",
       "       'Float7', 'Float8', 'Float9', 'Float10'],\n",
       "      dtype='object')"
      ]
     },
     "execution_count": 22,
     "metadata": {},
     "output_type": "execute_result"
    }
   ],
   "source": [
    "df_pd.columns"
   ]
  },
  {
   "cell_type": "markdown",
   "metadata": {},
   "source": [
    "**Query 0: filtering one integer value**"
   ]
  },
  {
   "cell_type": "code",
   "execution_count": 20,
   "metadata": {},
   "outputs": [
    {
     "name": "stdout",
     "output_type": "stream",
     "text": [
      "Average cpu usage: \n",
      "\t pandas: [40.1]% \n",
      "\t polars: [299.2]%\n",
      "Average memory usage: \n",
      "\t pandas: [149.07421875] MB \n",
      "\t polars: [36.07421875] MB\n",
      "Total duration: \n",
      "\t pandas: 0.16077327728271484 seconds \n",
      "\t polars: 0.13962340354919434 seconds\n"
     ]
    }
   ],
   "source": [
    "def query_pd():\n",
    "    res = df_pd[df_pd['Int1'] >= 30]\n",
    "    return res\n",
    "\n",
    "def query_pl():\n",
    "    res = df_pl.filter(pl.col(\"Int1\") >= 30)\n",
    "    return df_pl\n",
    "\n",
    "res_pd = track_cpu_memory(query_pd)\n",
    "res_pl = track_cpu_memory(query_pl)\n",
    "\n",
    "print_res(res_pd, res_pl)\n",
    "\n",
    "# print(f\"Average cpu usage: \\n\\t pandas: {res_pd['avg_cpu_usage']}% \\n\\t polars: {res_pl['avg_cpu_usage']}%\")\n",
    "# print(f\"Average memory usage: \\n\\t pandas: {res_pd['avg_memory_usage_mb']} MB \\n\\t polars: {res_pl['avg_memory_usage_mb']} MB\")\n",
    "# print(f\"Total duration: \\n\\t pandas: {res_pd['total_time']} seconds \\n\\t polars: {res_pl['total_time']} seconds\")"
   ]
  },
  {
   "cell_type": "markdown",
   "metadata": {},
   "source": [
    "**Query 1: filter and select as in https://medium.com/cuenex/pandas-2-0-vs-polars-the-ultimate-battle-a378eb75d6d1**\n",
    "\n",
    "Using track_cpu_memory()"
   ]
  },
  {
   "cell_type": "code",
   "execution_count": 65,
   "metadata": {},
   "outputs": [
    {
     "name": "stdout",
     "output_type": "stream",
     "text": [
      "Number of cpu cores: 12\n",
      "Average cpu usage: \n",
      "\t pandas: [40.1]% \n",
      "\t polars: [243.7]% (20.31%/core)\n",
      "Average memory usage: \n",
      "\t pandas: [0.0] MB \n",
      "\t polars: [1.0625] MB\n",
      "Total duration: \n",
      "\t pandas: 0.08094239234924316 seconds \n",
      "\t polars: 0.10825657844543457 seconds\n"
     ]
    }
   ],
   "source": [
    "def query_pd():\n",
    "    res = df_pd[df_pd['Int1']<=10][['Country', 'Gender']].nunique()\n",
    "    return res\n",
    "\n",
    "def query_pl():\n",
    "    res = df_pl.filter(pl.col(\"Int1\") <= 10).select(pl.col(['Country', 'Gender']).n_unique())\n",
    "    return res\n",
    "\n",
    "res_pd = track_cpu_memory(query_pd)\n",
    "res_pl = track_cpu_memory(query_pl)\n",
    "\n",
    "print_res(res_pd, res_pl)\n"
   ]
  },
  {
   "cell_type": "markdown",
   "metadata": {},
   "source": [
    "Using track_cpu_memory_pympler()"
   ]
  },
  {
   "cell_type": "code",
   "execution_count": 72,
   "metadata": {},
   "outputs": [
    {
     "name": "stdout",
     "output_type": "stream",
     "text": [
      "Number of cpu cores: 12\n",
      "Average cpu usage: \n",
      "\t pandas: [6.2]% \n",
      "\t polars: [176.1]% (14.67%/core)\n",
      "Average memory usage: \n",
      "\t pandas: [0.0] MB \n",
      "\t polars: [0.0] MB\n",
      "Total duration: \n",
      "\t pandas: 15.230718612670898 seconds \n",
      "\t polars: 4.326357841491699 seconds\n"
     ]
    }
   ],
   "source": [
    "def query_pd():\n",
    "    res = df_pd[df_pd['Int1']<=10][['Country', 'Gender']].nunique()\n",
    "    return res\n",
    "\n",
    "def query_pl():\n",
    "    res = df_pl.filter(pl.col(\"Int1\") <= 10).select(pl.col(['Country', 'Gender']).n_unique())\n",
    "    return res\n",
    "\n",
    "res_pd = track_cpu_memory_pympler(query_pd)\n",
    "res_pl = track_cpu_memory_pympler(query_pl)\n",
    "\n",
    "print_res(res_pd, res_pl)"
   ]
  },
  {
   "cell_type": "markdown",
   "metadata": {},
   "source": [
    "**Query 2: the mean of all numerical columns when cat_1 equals 1**"
   ]
  },
  {
   "cell_type": "markdown",
   "metadata": {},
   "source": [
    "Using track_cpu_memory()"
   ]
  },
  {
   "cell_type": "code",
   "execution_count": 71,
   "metadata": {},
   "outputs": [
    {
     "name": "stdout",
     "output_type": "stream",
     "text": [
      "Number of cpu cores: 12\n",
      "Average cpu usage: \n",
      "\t pandas: [11.0]% \n",
      "\t polars: [37.5]% (3.12%/core)\n",
      "Average memory usage: \n",
      "\t pandas: [4347.21484375] MB \n",
      "\t polars: [-3947.97265625] MB\n",
      "Total duration: \n",
      "\t pandas: 21.441218614578247 seconds \n",
      "\t polars: 4.430878400802612 seconds\n"
     ]
    }
   ],
   "source": [
    "def query_pd():\n",
    "    res = df_pd[df_pd['Int1']<=10][['Country', 'Gender']].nunique()\n",
    "    res = df_pd[df_pd['Int1']<=10][['Int2', 'Int3', 'Float1', 'Float2', 'Float3', 'Float4']].mean()\n",
    "    return res\n",
    "\n",
    "def query_pl():\n",
    "    res = df_pl.filter(pl.col(\"Country\") == 'Belgium').select(pl.col(['Int2', 'Int3', 'Float1', 'Float2', 'Float3', 'Float4']).mean())\n",
    "    return res\n",
    "\n",
    "res_pd = track_cpu_memory(query_pd)\n",
    "res_pl = track_cpu_memory(query_pl)\n",
    "\n",
    "print_res(res_pd, res_pl)"
   ]
  },
  {
   "cell_type": "markdown",
   "metadata": {},
   "source": [
    "Using track_cpu_memory_pympler()"
   ]
  },
  {
   "cell_type": "code",
   "execution_count": 73,
   "metadata": {},
   "outputs": [
    {
     "name": "stdout",
     "output_type": "stream",
     "text": [
      "Number of cpu cores: 12\n",
      "Average cpu usage: \n",
      "\t pandas: [6.3]% \n",
      "\t polars: [149.8]% (12.48%/core)\n",
      "Average memory usage: \n",
      "\t pandas: [0.0] MB \n",
      "\t polars: [0.0] MB\n",
      "Total duration: \n",
      "\t pandas: 21.69314193725586 seconds \n",
      "\t polars: 4.1940083503723145 seconds\n"
     ]
    }
   ],
   "source": [
    "def query_pd():\n",
    "    res = df_pd[df_pd['Int1']<=10][['Country', 'Gender']].nunique()\n",
    "    res = df_pd[df_pd['Int1']<=10][['Int2', 'Int3', 'Float1', 'Float2', 'Float3', 'Float4']].mean()\n",
    "    return res\n",
    "\n",
    "def query_pl():\n",
    "    res = df_pl.filter(pl.col(\"Country\") == 'Belgium').select(pl.col(['Int2', 'Int3', 'Float1', 'Float2', 'Float3', 'Float4']).mean())\n",
    "    return res\n",
    "\n",
    "res_pd = track_cpu_memory_pympler(query_pd)\n",
    "res_pl = track_cpu_memory_pympler(query_pl)\n",
    "\n",
    "print_res(res_pd, res_pl)"
   ]
  },
  {
   "cell_type": "markdown",
   "metadata": {},
   "source": [
    "### Joining"
   ]
  },
  {
   "cell_type": "markdown",
   "metadata": {},
   "source": [
    "### Grouping"
   ]
  },
  {
   "cell_type": "markdown",
   "metadata": {},
   "source": [
    "## Discussion"
   ]
  },
  {
   "cell_type": "markdown",
   "metadata": {},
   "source": []
  }
 ],
 "metadata": {
  "kernelspec": {
   "display_name": "Python 3",
   "language": "python",
   "name": "python3"
  },
  "language_info": {
   "codemirror_mode": {
    "name": "ipython",
    "version": 3
   },
   "file_extension": ".py",
   "mimetype": "text/x-python",
   "name": "python",
   "nbconvert_exporter": "python",
   "pygments_lexer": "ipython3",
   "version": "3.12.0"
  }
 },
 "nbformat": 4,
 "nbformat_minor": 2
}
