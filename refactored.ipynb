{
 "cells": [
  {
   "cell_type": "code",
   "execution_count": 1,
   "metadata": {},
   "outputs": [],
   "source": [
    "#generate some test data and write it to parquet files\n",
    "\n",
    "import data_creation\n",
    "\n",
    "for num_rows in [10000,100000,1000000]:\n",
    "    for num_cols in [2,10,20]:\n",
    "        data = data_creation.generate_test_data(num_rows, num_cols, num_cols)\n",
    "        filename = \"dataset_\"+str(num_rows)+\"_\"+str(num_cols)+\".pq\"\n",
    "        data_creation.write_to_parquet(data,filename)\n",
    "\n"
   ]
  },
  {
   "cell_type": "code",
   "execution_count": 2,
   "metadata": {},
   "outputs": [
    {
     "data": {
      "text/plain": [
       "['data/dataset_1000000_10.pq',\n",
       " 'data/dataset_1000000_2.pq',\n",
       " 'data/dataset_1000000_20.pq',\n",
       " 'data/dataset_100000_10.pq',\n",
       " 'data/dataset_100000_2.pq',\n",
       " 'data/dataset_100000_20.pq',\n",
       " 'data/dataset_10000_10.pq',\n",
       " 'data/dataset_10000_2.pq',\n",
       " 'data/dataset_10000_20.pq']"
      ]
     },
     "execution_count": 2,
     "metadata": {},
     "output_type": "execute_result"
    }
   ],
   "source": [
    "import data_creation\n",
    "data_creation.get_all_datasets()"
   ]
  },
  {
   "cell_type": "code",
   "execution_count": 3,
   "metadata": {},
   "outputs": [
    {
     "name": "stdout",
     "output_type": "stream",
     "text": [
      "Time taken by pd.read_parquet(): 0.051473140716552734 seconds\n"
     ]
    }
   ],
   "source": [
    "#Let's poc style try to test one thing\n",
    "# save to parquet and load data using pandas\n",
    "import time\n",
    "import pandas as pd\n",
    "\n",
    "start_time_pd_pq = time.time()\n",
    "\n",
    "\n",
    "#df.to_parquet(\"data_pd_pq.parquet\")\n",
    "df_loaded = pd.read_parquet(\"data/dataset_10000_10.pq\")\n",
    "\n",
    "end_time_pd_pq = time.time()\n",
    "\n",
    "time_taken_pd_pq = end_time_pd_pq - start_time_pd_pq\n",
    "\n",
    "# Print data and runtime\n",
    "print(f\"Time taken by pd.read_parquet(): {time_taken_pd_pq} seconds\")"
   ]
  },
  {
   "cell_type": "code",
   "execution_count": 5,
   "metadata": {},
   "outputs": [
    {
     "name": "stdout",
     "output_type": "stream",
     "text": [
      "The function test_read_pd took 0.0 memory % to run.\n"
     ]
    },
    {
     "ename": "NameError",
     "evalue": "name 'result' is not defined",
     "output_type": "error",
     "traceback": [
      "\u001b[1;31m---------------------------------------------------------------------------\u001b[0m",
      "\u001b[1;31mNameError\u001b[0m                                 Traceback (most recent call last)",
      "\u001b[1;32m~\\AppData\\Local\\Temp\\ipykernel_13864\\3018209738.py\u001b[0m in \u001b[0;36m<cell line: 4>\u001b[1;34m()\u001b[0m\n\u001b[0;32m      5\u001b[0m \u001b[1;33m@\u001b[0m\u001b[0mmeasure_cpu\u001b[0m\u001b[1;33m\u001b[0m\u001b[1;33m\u001b[0m\u001b[0m\n\u001b[0;32m      6\u001b[0m \u001b[1;33m@\u001b[0m\u001b[0mmeasure_memory_usage\u001b[0m\u001b[1;33m\u001b[0m\u001b[1;33m\u001b[0m\u001b[0m\n\u001b[1;32m----> 7\u001b[1;33m \u001b[1;32mdef\u001b[0m \u001b[0mtest_read_pd\u001b[0m\u001b[1;33m(\u001b[0m\u001b[1;33m)\u001b[0m\u001b[1;33m:\u001b[0m\u001b[1;33m\u001b[0m\u001b[1;33m\u001b[0m\u001b[0m\n\u001b[0m\u001b[0;32m      8\u001b[0m     \u001b[0mdf_loaded\u001b[0m \u001b[1;33m=\u001b[0m \u001b[0mpd\u001b[0m\u001b[1;33m.\u001b[0m\u001b[0mread_parquet\u001b[0m\u001b[1;33m(\u001b[0m\u001b[1;34m\"data/dataset_10000_10.pq\"\u001b[0m\u001b[1;33m)\u001b[0m\u001b[1;33m\u001b[0m\u001b[1;33m\u001b[0m\u001b[0m\n\u001b[0;32m      9\u001b[0m \u001b[1;33m\u001b[0m\u001b[0m\n",
      "\u001b[1;32mc:\\Users\\Mathijs\\Documents\\pandas v polars\\Polaris_vs_Pandas\\measure_wrappers.py\u001b[0m in \u001b[0;36mmeasure_memory_usage\u001b[1;34m(func)\u001b[0m\n\u001b[0;32m     32\u001b[0m     \u001b[0mmemory_usage_end\u001b[0m \u001b[1;33m=\u001b[0m \u001b[0mpsutil\u001b[0m\u001b[1;33m.\u001b[0m\u001b[0mProcess\u001b[0m\u001b[1;33m(\u001b[0m\u001b[1;33m)\u001b[0m\u001b[1;33m.\u001b[0m\u001b[0mmemory_percent\u001b[0m\u001b[1;33m(\u001b[0m\u001b[1;33m)\u001b[0m\u001b[1;33m\u001b[0m\u001b[1;33m\u001b[0m\u001b[0m\n\u001b[0;32m     33\u001b[0m     \u001b[0mmemory_usage\u001b[0m \u001b[1;33m=\u001b[0m \u001b[0mmemory_usage_end\u001b[0m \u001b[1;33m-\u001b[0m \u001b[0mmemory_usage_start\u001b[0m\u001b[1;33m\u001b[0m\u001b[1;33m\u001b[0m\u001b[0m\n\u001b[1;32m---> 34\u001b[1;33m     \u001b[0mprint\u001b[0m\u001b[1;33m(\u001b[0m\u001b[1;34mf\"The function {func.__name__} took {memory_usage} memory % to run.\"\u001b[0m\u001b[1;33m)\u001b[0m\u001b[1;33m\u001b[0m\u001b[1;33m\u001b[0m\u001b[0m\n\u001b[0m\u001b[0;32m     35\u001b[0m     \u001b[1;32mreturn\u001b[0m \u001b[0mresult\u001b[0m\u001b[1;33m\u001b[0m\u001b[1;33m\u001b[0m\u001b[0m\n\u001b[0;32m     36\u001b[0m \u001b[1;33m\u001b[0m\u001b[0m\n",
      "\u001b[1;31mNameError\u001b[0m: name 'result' is not defined"
     ]
    }
   ],
   "source": [
    "from measure_wrappers import *\n",
    "import pandas as pd\n",
    "\n",
    "@measure_runtime\n",
    "@measure_cpu\n",
    "@measure_memory_usage\n",
    "def test_read_pd():\n",
    "    df_loaded = pd.read_parquet(\"data/dataset_10000_10.pq\")\n",
    "\n",
    "test_read_pd()"
   ]
  },
  {
   "cell_type": "code",
   "execution_count": null,
   "metadata": {},
   "outputs": [],
   "source": [
    "# save to parquet and load data using pandas\n",
    "# show table size !\n",
    "import polars as pl\n",
    "from measure_wrappers import measure_runtime\n",
    "\n",
    "@measure_runtime\n",
    "def test_read_pl():\n",
    "    df_loaded = pl.read_parquet(\"data/dataset_10000_10.pq\")\n"
   ]
  },
  {
   "cell_type": "code",
   "execution_count": null,
   "metadata": {},
   "outputs": [
    {
     "name": "stdout",
     "output_type": "stream",
     "text": [
      "The function test_read_pl took 0.006769895553588867 seconds to run.\n"
     ]
    }
   ],
   "source": [
    "# save to parquet and load data using pandas\n",
    "# show table size !\n",
    "import polars as pl\n",
    "from measure_wrappers import measure_runtime\n",
    "\n",
    "@measure_runtime\n",
    "def test_read_pl():\n",
    "    df_loaded = pl.read_parquet(\"data/dataset_10000_10.pq\")\n",
    "\n",
    "test_read_pl()"
   ]
  }
 ],
 "metadata": {
  "kernelspec": {
   "display_name": "Python 3",
   "language": "python",
   "name": "python3"
  },
  "language_info": {
   "codemirror_mode": {
    "name": "ipython",
    "version": 3
   },
   "file_extension": ".py",
   "mimetype": "text/x-python",
   "name": "python",
   "nbconvert_exporter": "python",
   "pygments_lexer": "ipython3",
   "version": "3.10.11"
  },
  "orig_nbformat": 4
 },
 "nbformat": 4,
 "nbformat_minor": 2
}
