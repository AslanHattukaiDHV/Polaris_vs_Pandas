{
 "cells": [
  {
   "cell_type": "code",
   "execution_count": 1,
   "metadata": {},
   "outputs": [],
   "source": [
    "#generate some test data and write it to parquet files\n",
    "\n",
    "import data_creation\n",
    "\n",
    "for num_rows in [10000,100000,1000000]:\n",
    "    for num_cols in [2,10,20]:\n",
    "        data = data_creation.generate_test_data(num_rows, num_cols, num_cols)\n",
    "        filename = \"dataset_\"+str(num_rows)+\"_\"+str(num_cols)+\".pq\"\n",
    "        data_creation.write_to_parquet(data,filename)\n",
    "\n"
   ]
  },
  {
   "cell_type": "code",
   "execution_count": 2,
   "metadata": {},
   "outputs": [
    {
     "name": "stdout",
     "output_type": "stream",
     "text": [
      "   CustomerID   Name                Email       Phone     Address  \\\n",
      "0           1  wCeOK  jvvqubm@example.com  8077494927  AL2fNzqxLP   \n",
      "1           2  tGYuy  iaremfn@example.com  4033479089  4S52FZk9iJ   \n",
      "2           3  Kdnqt  opmqsck@example.com  6334342715  VhtagkUYZy   \n",
      "3           4  mXgud  oyhbwle@example.com  5981785323  0XgcRcea44   \n",
      "4           5  iXFuO  cqbdvyf@example.com  9593758453  w5INTHZlMs   \n",
      "\n",
      "                  Country  Gender  int_columncolumn_1  int_columncolumn_2  \\\n",
      "0  Bosnia and Herzegovina    Male                  57                  86   \n",
      "1                 Denmark  Female                   3                  57   \n",
      "2                 Andorra    Male                  16                  17   \n",
      "3                  Cyprus    Male                  14                  72   \n",
      "4                 Ireland    Male                  99                  17   \n",
      "\n",
      "   int_columncolumn_3  ...  int_columncolumn_9  float_column_1  \\\n",
      "0                  85  ...                  14        0.019730   \n",
      "1                  77  ...                  94        0.267564   \n",
      "2                  46  ...                  82        0.828830   \n",
      "3                  79  ...                  71        0.297646   \n",
      "4                  89  ...                  97        0.237556   \n",
      "\n",
      "   float_column_2  float_column_3  float_column_4  float_column_5  \\\n",
      "0        0.509179        0.557833        0.668920        0.245546   \n",
      "1        0.497407        0.043216        0.590210        0.381965   \n",
      "2        0.910380        0.803243        0.467778        0.307964   \n",
      "3        0.774766        0.563805        0.312938        0.082338   \n",
      "4        0.992855        0.915661        0.708783        0.706491   \n",
      "\n",
      "   float_column_6  float_column_7  float_column_8  float_column_9  \n",
      "0        0.803076        0.849890        0.302368        0.437923  \n",
      "1        0.208380        0.385958        0.788760        0.540963  \n",
      "2        0.632464        0.146407        0.279782        0.279585  \n",
      "3        0.003306        0.906486        0.585995        0.473071  \n",
      "4        0.301360        0.074082        0.570309        0.854148  \n",
      "\n",
      "[5 rows x 25 columns]\n",
      "Time taken by pd.read_parquet(): 0.38901591300964355 seconds\n"
     ]
    }
   ],
   "source": [
    "#Let's poc style try to test one thing\n",
    "# save to parquet and load data using pandas\n",
    "import time\n",
    "import pandas as pd\n",
    "\n",
    "start_time_pd_pq = time.time()\n",
    "\n",
    "\n",
    "#df.to_parquet(\"data_pd_pq.parquet\")\n",
    "df_loaded = pd.read_parquet(\"dataset_10000_10.pq\")\n",
    "\n",
    "end_time_pd_pq = time.time()\n",
    "\n",
    "time_taken_pd_pq = end_time_pd_pq - start_time_pd_pq\n",
    "\n",
    "# Print data and runtime\n",
    "print(f\"Time taken by pd.read_parquet(): {time_taken_pd_pq} seconds\")"
   ]
  },
  {
   "cell_type": "code",
   "execution_count": null,
   "metadata": {},
   "outputs": [],
   "source": [
    "# save to parquet and load data using pandas\n",
    "# show table size !\n",
    "\n",
    "start_time_pl_pq = time.time()\n",
    "\n",
    "#df.to_parquet(\"data_pl_pq.parquet\")\n",
    "df_loaded = pl.read_parquet(\"data_pl_pq.parquet\")\n",
    "\n",
    "end_time_pl_pq = time.time()\n",
    "time_taken_pl_pq = end_time_pl_pq - start_time_pl_pq\n",
    "\n",
    "# Print data and runtime\n",
    "print(df_loaded.head())\n",
    "print(f\"Time taken by pl.read_parquet(): {time_taken_pl_pq} seconds\") "
   ]
  }
 ],
 "metadata": {
  "kernelspec": {
   "display_name": "Python 3",
   "language": "python",
   "name": "python3"
  },
  "language_info": {
   "codemirror_mode": {
    "name": "ipython",
    "version": 3
   },
   "file_extension": ".py",
   "mimetype": "text/x-python",
   "name": "python",
   "nbconvert_exporter": "python",
   "pygments_lexer": "ipython3",
   "version": "3.10.11"
  },
  "orig_nbformat": 4
 },
 "nbformat": 4,
 "nbformat_minor": 2
}
