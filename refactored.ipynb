{
 "cells": [
  {
   "cell_type": "code",
   "execution_count": 1,
   "metadata": {},
   "outputs": [],
   "source": [
    "#generate some test data and write it to parquet files\n",
    "\n",
    "import data_creation\n",
    "\n",
    "for num_rows in [10000,100000,1000000]:\n",
    "    for num_cols in [2,10,20]:\n",
    "        data = data_creation.generate_test_data(num_rows, num_cols, num_cols)\n",
    "        filename = \"dataset_\"+str(num_rows)+\"_\"+str(num_cols)+\".pq\"\n",
    "        data_creation.write_to_parquet(data,filename)\n",
    "\n"
   ]
  },
  {
   "cell_type": "code",
   "execution_count": null,
   "metadata": {},
   "outputs": [
    {
     "data": {
      "text/plain": [
       "['data/dataset_1000000_10.pq',\n",
       " 'data/dataset_1000000_2.pq',\n",
       " 'data/dataset_1000000_20.pq',\n",
       " 'data/dataset_100000_10.pq',\n",
       " 'data/dataset_100000_2.pq',\n",
       " 'data/dataset_100000_20.pq',\n",
       " 'data/dataset_10000_10.pq',\n",
       " 'data/dataset_10000_2.pq',\n",
       " 'data/dataset_10000_20.pq']"
      ]
     },
     "execution_count": 2,
     "metadata": {},
     "output_type": "execute_result"
    }
   ],
   "source": [
    "import data_creation\n",
    "data_creation.get_all_datasets()"
   ]
  },
  {
   "cell_type": "code",
   "execution_count": null,
   "metadata": {},
   "outputs": [
    {
     "name": "stdout",
     "output_type": "stream",
     "text": [
      "Time taken by pd.read_parquet(): 0.024872779846191406 seconds\n"
     ]
    }
   ],
   "source": [
    "#Let's poc style try to test one thing\n",
    "# save to parquet and load data using pandas\n",
    "import time\n",
    "import pandas as pd\n",
    "\n",
    "start_time_pd_pq = time.time()\n",
    "\n",
    "\n",
    "#df.to_parquet(\"data_pd_pq.parquet\")\n",
    "df_loaded = pd.read_parquet(\"data/dataset_10000_10.pq\")\n",
    "\n",
    "end_time_pd_pq = time.time()\n",
    "\n",
    "time_taken_pd_pq = end_time_pd_pq - start_time_pd_pq\n",
    "\n",
    "# Print data and runtime\n",
    "print(f\"Time taken by pd.read_parquet(): {time_taken_pd_pq} seconds\")"
   ]
  },
  {
   "cell_type": "code",
   "execution_count": null,
   "metadata": {},
   "outputs": [
    {
     "name": "stdout",
     "output_type": "stream",
     "text": [
      "The function test_read_pd took 0.02126455307006836 seconds to run.\n"
     ]
    }
   ],
   "source": [
    "from measure_wrappers import *\n",
    "import pandas as pd\n",
    "\n",
    "@measure_runtime\n",
    "@measure_cpu\n",
    "@measure_memory_usage\n",
    "def test_read_pd():\n",
    "    df_loaded = pd.read_parquet(\"data/dataset_10000_10.pq\")\n",
    "\n",
    "test_read_pd()"
   ]
  },
  {
   "cell_type": "code",
   "execution_count": null,
   "metadata": {},
   "outputs": [],
   "source": [
    "# save to parquet and load data using pandas\n",
    "# show table size !\n",
    "import polars as pl\n",
    "from measure_wrappers import measure_runtime\n",
    "\n",
    "@measure_runtime\n",
    "def test_read_pl():\n",
    "    df_loaded = pl.read_parquet(\"data/dataset_10000_10.pq\")\n"
   ]
  },
  {
   "cell_type": "code",
   "execution_count": null,
   "metadata": {},
   "outputs": [
    {
     "name": "stdout",
     "output_type": "stream",
     "text": [
      "The function test_read_pl took 0.006769895553588867 seconds to run.\n"
     ]
    }
   ],
   "source": [
    "# save to parquet and load data using pandas\n",
    "# show table size !\n",
    "import polars as pl\n",
    "from measure_wrappers import measure_runtime\n",
    "\n",
    "@measure_runtime\n",
    "def test_read_pl():\n",
    "    df_loaded = pl.read_parquet(\"data/dataset_10000_10.pq\")\n",
    "\n",
    "test_read_pl()"
   ]
  }
 ],
 "metadata": {
  "kernelspec": {
   "display_name": "Python 3",
   "language": "python",
   "name": "python3"
  },
  "language_info": {
   "codemirror_mode": {
    "name": "ipython",
    "version": 3
   },
   "file_extension": ".py",
   "mimetype": "text/x-python",
   "name": "python",
   "nbconvert_exporter": "python",
   "pygments_lexer": "ipython3",
   "version": "3.10.11"
  },
  "orig_nbformat": 4
 },
 "nbformat": 4,
 "nbformat_minor": 2
}
